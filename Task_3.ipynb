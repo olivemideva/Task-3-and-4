{
  "nbformat": 4,
  "nbformat_minor": 0,
  "metadata": {
    "colab": {
      "provenance": [],
      "include_colab_link": true
    },
    "kernelspec": {
      "name": "python3",
      "display_name": "Python 3"
    },
    "language_info": {
      "name": "python"
    }
  },
  "cells": [
    {
      "cell_type": "markdown",
      "metadata": {
        "id": "view-in-github",
        "colab_type": "text"
      },
      "source": [
        "<a href=\"https://colab.research.google.com/github/olivemideva/Task-3-and-4/blob/main/Task_3.ipynb\" target=\"_parent\"><img src=\"https://colab.research.google.com/assets/colab-badge.svg\" alt=\"Open In Colab\"/></a>"
      ]
    },
    {
      "cell_type": "markdown",
      "source": [
        "**128741 Yuda Betty Makena**\n",
        "\n",
        "**135734 Chelsea Mogore**\n",
        "\n",
        "**135792 Muloma Olive Mideva**\n",
        "\n",
        "**136805 Abigail Muthuri**\n",
        "\n",
        "**120351 Mburu Evanson**\n",
        "\n",
        "**127135 Atulah Harry**\n",
        "\n",
        "**111218 Shyleen Mwadeghu**\n",
        "\n",
        "**136268 Saidi Walid Iddi**\n",
        "\n"
      ],
      "metadata": {
        "id": "LXZ2zHSxKgJ7"
      }
    },
    {
      "cell_type": "markdown",
      "source": [
        "**CFG**\n",
        "\n",
        "S -> A B\n",
        "\n",
        "A -> a | ε\n",
        "\n",
        "B -> b | ε\n"
      ],
      "metadata": {
        "id": "QoETOupfMyZR"
      }
    },
    {
      "cell_type": "code",
      "execution_count": null,
      "metadata": {
        "colab": {
          "base_uri": "https://localhost:8080/"
        },
        "id": "3_45VjaAKNlx",
        "outputId": "bd838f87-a87b-44f3-9232-fb400a50bcaa"
      },
      "outputs": [
        {
          "output_type": "stream",
          "name": "stdout",
          "text": [
            "M[S, a] = AB\n",
            "M[S, b] = AB\n",
            "M[A, a] = a\n",
            "M[A, b] = \n",
            "M[A, $] = ε\n",
            "M[B, b] = b\n",
            "M[B, $] = ε\n"
          ]
        }
      ],
      "source": [
        "def construct_ll1_table():\n",
        "    table = {\n",
        "        ('S', 'a'): 'AB',\n",
        "        ('S', 'b'): 'AB',\n",
        "        ('A', 'a'): 'a',\n",
        "        ('A', 'b'): '',\n",
        "        ('A', '$'): 'ε',\n",
        "        ('B', 'b'): 'b',\n",
        "        ('B', '$'): 'ε'\n",
        "    }\n",
        "    return table\n",
        "\n",
        "ll1_table = construct_ll1_table()\n",
        "\n",
        "# Printing the LL(1) table\n",
        "for non_terminal in ['S', 'A', 'B']:\n",
        "    for terminal in ['a', 'b', '$']:\n",
        "        if (non_terminal, terminal) in ll1_table:\n",
        "            print(f'M[{non_terminal}, {terminal}] = {ll1_table[(non_terminal, terminal)]}')\n"
      ]
    }
  ]
}